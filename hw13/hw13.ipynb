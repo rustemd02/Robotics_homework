{
 "cells": [
  {
   "cell_type": "code",
   "execution_count": null,
   "metadata": {
    "collapsed": true
   },
   "outputs": [],
   "source": [
    "import numpy as np\n",
    "import cv2\n",
    "import sys\n",
    "from matplotlib import pyplot as plt\n",
    "\n",
    "vid = cv2.VideoCapture(0)\n",
    "img = cv2.imread('gustavo.jpg')\n",
    "myVid = cv2.VideoCapture('video.MOV')\n",
    "\n",
    "success, imgVideo = myVid.read()\n",
    "h,w,c = img.shape\n",
    "imgVideo = cv2.resize(imgVideo,(w,h))\n",
    "\n",
    "orb = cv2.ORB_create(nfeatures = 1000)\n",
    "keypoint1, descriptor1 = orb.detectAndCompute(img, None)\n",
    "\n",
    "while True:\n",
    "    success,imgWebCam = vid.read()\n",
    "#     ret, frame = vid.read()\n",
    "#     writer.write(frame)\n",
    "    ###\n",
    "#     imgWebCam = cv2.resize(imgVideo,(w,h))\n",
    "    keypoint2, descriptor2 = orb.detectAndCompute(imgWebCam, None)\n",
    "    # imgWebCam = cv2.drawKeypoints(imgWebCam, keypoint2, None)\n",
    "\n",
    "\n",
    "    bf = cv2.BFMatcher()\n",
    "    print(bf)\n",
    "    matches = bf.knnMatch(descriptor1, descriptor2, k = 2)\n",
    "    good = []\n",
    "    for m,n in matches:\n",
    "        if m.distance < 0.75 * n.distance:\n",
    "            good.append(m)\n",
    "    print(len(good))\n",
    "    imgFeatures = cv2.drawMatches(img, keypoint1, imgWebCam, keypoint2, good, None, flags = 2 )\n",
    "\n",
    "    plt.imshow(imgFeatures)\n",
    "    plt.figure(figsize=(15,15))\n",
    "    plt.show()\n",
    "\n",
    "    cv2.imshow('Features', imgFeatures)\n",
    "#     cv2.imshow('ImgTarget', img)\n",
    "#     cv2.imshow('WebCam', imgWebCam)\n",
    "#     cv2.imshow('Video', imgVideo)\n",
    "    if cv2.waitKey(0) & 0xFF == ord('q'):\n",
    "            break\n",
    "    cv2.waitKey(0)\n",
    "    cv2.destroyAllWindows()\n",
    "\n",
    "\n",
    "cv2.imshow('ImgTarget', img)\n",
    "cv2.imshow('webCamVideo', imgVideo)\n",
    "cv2.waitKey(0)\n",
    "cv2.destroyAllWindows()"
   ]
  }
 ],
 "metadata": {
  "kernelspec": {
   "display_name": "Python 3",
   "language": "python",
   "name": "python3"
  },
  "language_info": {
   "codemirror_mode": {
    "name": "ipython",
    "version": 2
   },
   "file_extension": ".py",
   "mimetype": "text/x-python",
   "name": "python",
   "nbconvert_exporter": "python",
   "pygments_lexer": "ipython2",
   "version": "2.7.6"
  }
 },
 "nbformat": 4,
 "nbformat_minor": 0
}
